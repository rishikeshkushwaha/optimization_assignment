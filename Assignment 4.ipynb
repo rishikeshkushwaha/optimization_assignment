{
 "cells": [
  {
   "cell_type": "markdown",
   "metadata": {},
   "source": [
    "### Variable\n",
    "\n",
    "$x_1$ = No of employee started working on Monday shift \n",
    "\n",
    "\n",
    "$x_2$ = No of employee started working on Tuesday shift\n",
    "\n",
    "so on\n",
    "\n",
    "\\begin{equation}\n",
    "x_1 +\\hspace{2cm} x_4 + x_5 +x_6 + x_7 \\geq 17\n",
    "\\end{equation}\n",
    "\\begin{equation}\n",
    " x_1 + x_2 \\hspace{2cm} + x_5 +x_6 +x_7\\geq 13\n",
    "\\end{equation}\n",
    "\\begin{equation}\n",
    " x_1 + x_2 + x_3 \\hspace{2cm}  +x_6 +x_7\\geq 15\n",
    "\\end{equation}\n",
    "\\begin{equation}\n",
    " x_1 + x_2 + x_3 + x_4  \\hspace{2cm} +x_7 \\geq 19\n",
    "\\end{equation}\n",
    "\\begin{equation}\n",
    " x_1 + x_2 + x_3 +x_4 +x_5 \\hspace{20mm} \\geq 14\n",
    "\\end{equation}\n",
    "\\begin{equation}\n",
    " \\hspace{15mm}x_2 + x_3 + x_4+x_5+x_6 \\hspace{7mm}\\geq 16\n",
    "\\end{equation}\n",
    "\\begin{equation}\n",
    "\\hspace{2cm}x_3 +x_4+x_5+x_6 +x_7\\geq 11\n",
    "\\end{equation}"
   ]
  },
  {
   "cell_type": "code",
   "execution_count": 26,
   "metadata": {
    "ExecuteTime": {
     "end_time": "2021-06-17T07:32:59.330320Z",
     "start_time": "2021-06-17T07:32:59.314368Z"
    }
   },
   "outputs": [],
   "source": [
    "from pulp import LpMinimize, LpProblem, LpStatus, lpSum, LpVariable"
   ]
  },
  {
   "cell_type": "code",
   "execution_count": 63,
   "metadata": {
    "ExecuteTime": {
     "end_time": "2021-06-17T08:40:51.358863Z",
     "start_time": "2021-06-17T08:40:51.342906Z"
    }
   },
   "outputs": [],
   "source": [
    "# Define the set index\n",
    "employee_day = ['Mon', 'Tue', 'Wed', 'Thurs', 'Fri', 'Sat', 'Sun']\n",
    "\n",
    "# Define model variable\n",
    "employee_var = LpVariable.dicts(\"employee_day\", employee_day, lowBound=0, cat=\"Continuous\")"
   ]
  },
  {
   "cell_type": "code",
   "execution_count": 64,
   "metadata": {
    "ExecuteTime": {
     "end_time": "2021-06-17T08:40:55.474777Z",
     "start_time": "2021-06-17T08:40:55.450778Z"
    }
   },
   "outputs": [],
   "source": [
    "# Define objective function\n",
    "model = LpProblem(name=\"GD-employees-scheduling\", sense=LpMinimize)\n",
    "obj_func = lpSum([employee_var[i] for i in employee_var])\n",
    "model += obj_func"
   ]
  },
  {
   "cell_type": "code",
   "execution_count": 39,
   "metadata": {
    "ExecuteTime": {
     "end_time": "2021-06-17T07:47:13.474525Z",
     "start_time": "2021-06-17T07:47:13.464530Z"
    }
   },
   "outputs": [],
   "source": [
    "# Define constraint\n",
    "model += lpSum([employee_var[i] for i in employee_var if i not in ['Tue','Wed']]) >= 17\n",
    "model += lpSum([employee_var[i] for i in employee_var if i not in ['Wed','Thurs']]) >= 13\n",
    "model += lpSum([employee_var[i] for i in employee_var if i not in ['Thurs','Fri']]) >= 15\n",
    "model += lpSum([employee_var[i] for i in employee_var if i not in ['Fri','Sat']]) >= 19\n",
    "model += lpSum([employee_var[i] for i in employee_var if i not in ['Sat','Sun']]) >= 14\n",
    "model += lpSum([employee_var[i] for i in employee_var if i not in ['Sun','Mon']]) >= 16\n",
    "model += lpSum([employee_var[i] for i in employee_var if i not in ['Mon','Tue']]) >= 11"
   ]
  },
  {
   "cell_type": "markdown",
   "metadata": {},
   "source": [
    "# Alternative way to code same formulation"
   ]
  },
  {
   "cell_type": "code",
   "execution_count": 65,
   "metadata": {
    "ExecuteTime": {
     "end_time": "2021-06-17T08:40:58.500817Z",
     "start_time": "2021-06-17T08:40:58.484823Z"
    }
   },
   "outputs": [],
   "source": [
    "lis = [17,13,15,19,14,16,11]\n",
    "requirement = {}\n",
    "for i,j in zip(employee_day,lis):\n",
    "    requirement[i] = j"
   ]
  },
  {
   "cell_type": "code",
   "execution_count": 66,
   "metadata": {
    "ExecuteTime": {
     "end_time": "2021-06-17T08:41:01.133674Z",
     "start_time": "2021-06-17T08:41:01.109707Z"
    }
   },
   "outputs": [],
   "source": [
    "not_present = {'Mon':('Tue','Wed'),'Tue':('Wed','Thurs'), 'Wed':('Thurs','Fri'),'Thurs':('Fri','Sat'),'Fri':('Sat','Sun'),'Sat':('Sun','Mon'),'Sun':('Mon','Tue')}"
   ]
  },
  {
   "cell_type": "code",
   "execution_count": 67,
   "metadata": {
    "ExecuteTime": {
     "end_time": "2021-06-17T08:41:03.359712Z",
     "start_time": "2021-06-17T08:41:03.335673Z"
    }
   },
   "outputs": [],
   "source": [
    "for i in employee_day:\n",
    "    model += lpSum([employee_var[i] for i in employee_day]) - lpSum([employee_var[j] for j in not_present[i] ]) >= requirement[i]"
   ]
  },
  {
   "cell_type": "code",
   "execution_count": 68,
   "metadata": {
    "ExecuteTime": {
     "end_time": "2021-06-17T08:41:06.277831Z",
     "start_time": "2021-06-17T08:41:06.261830Z"
    }
   },
   "outputs": [
    {
     "data": {
      "text/plain": [
       "GD-employees-scheduling:\n",
       "MINIMIZE\n",
       "1*employee_day_Fri + 1*employee_day_Mon + 1*employee_day_Sat + 1*employee_day_Sun + 1*employee_day_Thurs + 1*employee_day_Tue + 1*employee_day_Wed + 0\n",
       "SUBJECT TO\n",
       "_C1: employee_day_Fri + employee_day_Mon + employee_day_Sat + employee_day_Sun\n",
       " + employee_day_Thurs + 0 employee_day_Tue + 0 employee_day_Wed >= 17\n",
       "\n",
       "_C2: employee_day_Fri + employee_day_Mon + employee_day_Sat + employee_day_Sun\n",
       " + 0 employee_day_Thurs + employee_day_Tue + 0 employee_day_Wed >= 13\n",
       "\n",
       "_C3: 0 employee_day_Fri + employee_day_Mon + employee_day_Sat\n",
       " + employee_day_Sun + 0 employee_day_Thurs + employee_day_Tue\n",
       " + employee_day_Wed >= 15\n",
       "\n",
       "_C4: 0 employee_day_Fri + employee_day_Mon + 0 employee_day_Sat\n",
       " + employee_day_Sun + employee_day_Thurs + employee_day_Tue + employee_day_Wed\n",
       " >= 19\n",
       "\n",
       "_C5: employee_day_Fri + employee_day_Mon + 0 employee_day_Sat\n",
       " + 0 employee_day_Sun + employee_day_Thurs + employee_day_Tue\n",
       " + employee_day_Wed >= 14\n",
       "\n",
       "_C6: employee_day_Fri + 0 employee_day_Mon + employee_day_Sat\n",
       " + 0 employee_day_Sun + employee_day_Thurs + employee_day_Tue\n",
       " + employee_day_Wed >= 16\n",
       "\n",
       "_C7: employee_day_Fri + 0 employee_day_Mon + employee_day_Sat\n",
       " + employee_day_Sun + employee_day_Thurs + 0 employee_day_Tue\n",
       " + employee_day_Wed >= 11\n",
       "\n",
       "VARIABLES\n",
       "employee_day_Fri Continuous\n",
       "employee_day_Mon Continuous\n",
       "employee_day_Sat Continuous\n",
       "employee_day_Sun Continuous\n",
       "employee_day_Thurs Continuous\n",
       "employee_day_Tue Continuous\n",
       "employee_day_Wed Continuous"
      ]
     },
     "execution_count": 68,
     "metadata": {},
     "output_type": "execute_result"
    }
   ],
   "source": [
    "model"
   ]
  },
  {
   "cell_type": "code",
   "execution_count": 69,
   "metadata": {
    "ExecuteTime": {
     "end_time": "2021-06-17T08:41:11.481254Z",
     "start_time": "2021-06-17T08:41:11.353247Z"
    }
   },
   "outputs": [
    {
     "data": {
      "text/plain": [
       "1"
      ]
     },
     "execution_count": 69,
     "metadata": {},
     "output_type": "execute_result"
    }
   ],
   "source": [
    "status = model.solve()\n",
    "status"
   ]
  },
  {
   "cell_type": "code",
   "execution_count": 70,
   "metadata": {
    "ExecuteTime": {
     "end_time": "2021-06-17T08:41:13.342567Z",
     "start_time": "2021-06-17T08:41:13.318608Z"
    }
   },
   "outputs": [
    {
     "name": "stdout",
     "output_type": "stream",
     "text": [
      "status: 1, Optimal\n"
     ]
    }
   ],
   "source": [
    "print(f\"status: {model.status}, {LpStatus[model.status]}\")"
   ]
  },
  {
   "cell_type": "code",
   "execution_count": 71,
   "metadata": {
    "ExecuteTime": {
     "end_time": "2021-06-17T08:41:14.855331Z",
     "start_time": "2021-06-17T08:41:14.831368Z"
    }
   },
   "outputs": [
    {
     "name": "stdout",
     "output_type": "stream",
     "text": [
      "employee_day_Fri: 0.0\n",
      "employee_day_Mon: 6.3333333\n",
      "employee_day_Sat: 3.3333333\n",
      "employee_day_Sun: 0.0\n",
      "employee_day_Thurs: 7.3333333\n",
      "employee_day_Tue: 3.3333333\n",
      "employee_day_Wed: 2.0\n"
     ]
    }
   ],
   "source": [
    "for var in model.variables():\n",
    "    print(f\"{var.name}: {var.value()}\")"
   ]
  },
  {
   "cell_type": "code",
   "execution_count": 72,
   "metadata": {
    "ExecuteTime": {
     "end_time": "2021-06-17T08:41:17.183168Z",
     "start_time": "2021-06-17T08:41:17.167218Z"
    }
   },
   "outputs": [
    {
     "data": {
      "text/plain": [
       "22.3333332"
      ]
     },
     "execution_count": 72,
     "metadata": {},
     "output_type": "execute_result"
    }
   ],
   "source": [
    "obj_func.value()"
   ]
  },
  {
   "cell_type": "code",
   "execution_count": 73,
   "metadata": {
    "ExecuteTime": {
     "end_time": "2021-06-17T08:41:18.748219Z",
     "start_time": "2021-06-17T08:41:18.724253Z"
    }
   },
   "outputs": [],
   "source": [
    "for i in employee_day:\n",
    "    employee_var[i].cat = 'Integer'"
   ]
  },
  {
   "cell_type": "code",
   "execution_count": 74,
   "metadata": {
    "ExecuteTime": {
     "end_time": "2021-06-17T08:41:20.515828Z",
     "start_time": "2021-06-17T08:41:20.387893Z"
    }
   },
   "outputs": [
    {
     "data": {
      "text/plain": [
       "1"
      ]
     },
     "execution_count": 74,
     "metadata": {},
     "output_type": "execute_result"
    }
   ],
   "source": [
    "model.solve()"
   ]
  },
  {
   "cell_type": "code",
   "execution_count": 75,
   "metadata": {
    "ExecuteTime": {
     "end_time": "2021-06-17T08:41:21.588192Z",
     "start_time": "2021-06-17T08:41:21.572160Z"
    }
   },
   "outputs": [
    {
     "name": "stdout",
     "output_type": "stream",
     "text": [
      "employee_day_Fri: 1.0\n",
      "employee_day_Mon: 7.0\n",
      "employee_day_Sat: 3.0\n",
      "employee_day_Sun: 0.0\n",
      "employee_day_Thurs: 7.0\n",
      "employee_day_Tue: 3.0\n",
      "employee_day_Wed: 2.0\n"
     ]
    }
   ],
   "source": [
    "for var in model.variables():\n",
    "    print(f\"{var.name}: {var.value()}\")"
   ]
  },
  {
   "cell_type": "code",
   "execution_count": 76,
   "metadata": {
    "ExecuteTime": {
     "end_time": "2021-06-17T08:41:23.410932Z",
     "start_time": "2021-06-17T08:41:23.386938Z"
    }
   },
   "outputs": [
    {
     "data": {
      "text/plain": [
       "23.0"
      ]
     },
     "execution_count": 76,
     "metadata": {},
     "output_type": "execute_result"
    }
   ],
   "source": [
    "obj_func.value()"
   ]
  },
  {
   "cell_type": "code",
   "execution_count": null,
   "metadata": {},
   "outputs": [],
   "source": []
  }
 ],
 "metadata": {
  "kernelspec": {
   "display_name": "Python 3",
   "language": "python",
   "name": "python3"
  },
  "language_info": {
   "codemirror_mode": {
    "name": "ipython",
    "version": 3
   },
   "file_extension": ".py",
   "mimetype": "text/x-python",
   "name": "python",
   "nbconvert_exporter": "python",
   "pygments_lexer": "ipython3",
   "version": "3.9.5"
  },
  "toc": {
   "base_numbering": 1,
   "nav_menu": {},
   "number_sections": true,
   "sideBar": true,
   "skip_h1_title": false,
   "title_cell": "Table of Contents",
   "title_sidebar": "Contents",
   "toc_cell": false,
   "toc_position": {},
   "toc_section_display": true,
   "toc_window_display": false
  },
  "varInspector": {
   "cols": {
    "lenName": 16,
    "lenType": 16,
    "lenVar": 40
   },
   "kernels_config": {
    "python": {
     "delete_cmd_postfix": "",
     "delete_cmd_prefix": "del ",
     "library": "var_list.py",
     "varRefreshCmd": "print(var_dic_list())"
    },
    "r": {
     "delete_cmd_postfix": ") ",
     "delete_cmd_prefix": "rm(",
     "library": "var_list.r",
     "varRefreshCmd": "cat(var_dic_list()) "
    }
   },
   "types_to_exclude": [
    "module",
    "function",
    "builtin_function_or_method",
    "instance",
    "_Feature"
   ],
   "window_display": false
  }
 },
 "nbformat": 4,
 "nbformat_minor": 4
}
