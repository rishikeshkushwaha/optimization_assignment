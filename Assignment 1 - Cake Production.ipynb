{
 "cells": [
  {
   "cell_type": "code",
   "execution_count": 2,
   "id": "immune-diabetes",
   "metadata": {
    "ExecuteTime": {
     "end_time": "2021-06-03T06:10:47.021234Z",
     "start_time": "2021-06-03T06:10:28.016645Z"
    }
   },
   "outputs": [
    {
     "name": "stdout",
     "output_type": "stream",
     "text": [
      "Looking in indexes: https://pypi.python.org/simple\n",
      "Collecting pulp\n",
      "  Downloading PuLP-2.4-py3-none-any.whl (40.6 MB)\n",
      "Collecting amply>=0.1.2\n",
      "  Downloading amply-0.1.4-py3-none-any.whl (16 kB)\n",
      "Collecting docutils>=0.3\n",
      "  Downloading docutils-0.17.1-py2.py3-none-any.whl (575 kB)\n",
      "Requirement already satisfied: pyparsing in c:\\users\\rishikesh.kushwaha\\appdata\\local\\programs\\python\\python39\\lib\\site-packages (from amply>=0.1.2->pulp) (2.4.7)\n",
      "Installing collected packages: docutils, amply, pulp\n",
      "Successfully installed amply-0.1.4 docutils-0.17.1 pulp-2.4\n"
     ]
    },
    {
     "name": "stderr",
     "output_type": "stream",
     "text": [
      "WARNING: Retrying (Retry(total=4, connect=None, read=None, redirect=None, status=None)) after connection broken by 'NewConnectionError('<pip._vendor.urllib3.connection.HTTPSConnection object at 0x00000130AAA24730>: Failed to establish a new connection: [Errno 11001] getaddrinfo failed')': /simple/pulp/\n",
      "WARNING: Retrying (Retry(total=3, connect=None, read=None, redirect=None, status=None)) after connection broken by 'NewConnectionError('<pip._vendor.urllib3.connection.HTTPSConnection object at 0x00000130AAA24520>: Failed to establish a new connection: [Errno 11001] getaddrinfo failed')': /simple/pulp/\n"
     ]
    }
   ],
   "source": [
    "!pip install pulp"
   ]
  },
  {
   "cell_type": "code",
   "execution_count": 3,
   "id": "derived-document",
   "metadata": {
    "ExecuteTime": {
     "end_time": "2021-06-03T06:10:47.181240Z",
     "start_time": "2021-06-03T06:10:47.053235Z"
    }
   },
   "outputs": [],
   "source": [
    "import pulp"
   ]
  },
  {
   "cell_type": "code",
   "execution_count": 8,
   "id": "ecological-metro",
   "metadata": {
    "ExecuteTime": {
     "end_time": "2021-06-03T08:03:20.327605Z",
     "start_time": "2021-06-03T08:03:20.302590Z"
    }
   },
   "outputs": [],
   "source": [
    "from pulp import LpMaximize, LpProblem, LpStatus, lpSum, LpVariable\n",
    "\n",
    "model = LpProblem(name=\"cake-problem\", sense=LpMaximize)\n",
    "x = LpVariable(name=\"c\", lowBound=0)\n",
    "y = LpVariable(name=\"p\", lowBound=0)\n",
    "\n",
    "obj_func = 75 * x + 40 * y\n",
    "model += obj_func\n",
    "\n",
    "model += (6 * x + 4 * y <= 155, \"flour_constraint\")\n",
    "model += (4 * x + 3 * y <= 80, \"time_constraint\")"
   ]
  },
  {
   "cell_type": "code",
   "execution_count": 9,
   "id": "critical-interpretation",
   "metadata": {
    "ExecuteTime": {
     "end_time": "2021-06-03T08:03:23.545502Z",
     "start_time": "2021-06-03T08:03:23.526558Z"
    }
   },
   "outputs": [
    {
     "data": {
      "text/plain": [
       "cake-problem:\n",
       "MAXIMIZE\n",
       "75*c + 40*p + 0\n",
       "SUBJECT TO\n",
       "flour_constraint: 6 c + 4 p <= 155\n",
       "\n",
       "time_constraint: 4 c + 3 p <= 80\n",
       "\n",
       "VARIABLES\n",
       "c Continuous\n",
       "p Continuous"
      ]
     },
     "execution_count": 9,
     "metadata": {},
     "output_type": "execute_result"
    }
   ],
   "source": [
    "model"
   ]
  },
  {
   "cell_type": "code",
   "execution_count": 10,
   "id": "stuffed-machine",
   "metadata": {
    "ExecuteTime": {
     "end_time": "2021-06-03T08:03:44.311214Z",
     "start_time": "2021-06-03T08:03:42.238189Z"
    }
   },
   "outputs": [],
   "source": [
    "status = model.solve()\n"
   ]
  },
  {
   "cell_type": "code",
   "execution_count": 11,
   "id": "amino-brass",
   "metadata": {
    "ExecuteTime": {
     "end_time": "2021-06-03T08:03:56.024247Z",
     "start_time": "2021-06-03T08:03:56.015242Z"
    }
   },
   "outputs": [
    {
     "name": "stdout",
     "output_type": "stream",
     "text": [
      "status: 1, Optimal\n"
     ]
    }
   ],
   "source": [
    "print(f\"status: {model.status}, {LpStatus[model.status]}\")"
   ]
  },
  {
   "cell_type": "code",
   "execution_count": 12,
   "id": "cross-preview",
   "metadata": {
    "ExecuteTime": {
     "end_time": "2021-06-03T08:04:14.274705Z",
     "start_time": "2021-06-03T08:04:14.253694Z"
    }
   },
   "outputs": [
    {
     "name": "stdout",
     "output_type": "stream",
     "text": [
      "c: 20.0\n",
      "p: 0.0\n"
     ]
    }
   ],
   "source": [
    "for var in model.variables():\n",
    "    print(f\"{var.name}: {var.value()}\")"
   ]
  },
  {
   "cell_type": "code",
   "execution_count": 30,
   "id": "incorrect-flight",
   "metadata": {
    "ExecuteTime": {
     "end_time": "2021-06-03T11:03:36.076745Z",
     "start_time": "2021-06-03T11:03:35.740943Z"
    }
   },
   "outputs": [
    {
     "data": {
      "text/plain": [
       "Text(0, 0.5, '$y$')"
      ]
     },
     "execution_count": 30,
     "metadata": {},
     "output_type": "execute_result"
    },
    {
     "data": {
      "image/png": "[encoded data removed]",
      "text/plain": [
       "<Figure size 432x288 with 1 Axes>"
      ]
     },
     "metadata": {
      "needs_background": "light"
     },
     "output_type": "display_data"
    }
   ],
   "source": [
    "import matplotlib.pyplot as plt\n",
    "\n",
    "d = np.linspace(-2,16,300)\n",
    "x,y = np.meshgrid(d,d)\n",
    "plt.imshow( ((x>=0) & (6 * x + 4 * y <= 155) & (4 * x + 3 * y <= 80) & (y>=0)).astype(int) , \n",
    "                extent=(x.min(),x.max(),y.min(),y.max()),origin=\"lower\", cmap=\"Greys\", alpha = 0.3);\n",
    "\n",
    "\n",
    "# plot the lines defining the constraints\n",
    "x = np.linspace(0, 16, 500)\n",
    "# y >= 2\n",
    "y1 = 155- (6/4*x)\n",
    "# 2y <= 25 - x\n",
    "y2 = (80-4/3*x)\n",
    "# 4y >= 2x - 8 \n",
    "# y3 = 0 (2*x-8)/4.0\n",
    "# y <= 2x - 5 \n",
    "# y4 = 2 * x -5\n",
    "\n",
    "# Make plot\n",
    "plt.plot(x, 2*np.ones_like(y1))\n",
    "plt.plot(x, y2, label=r'$2y\\leq25-x$')\n",
    "plt.plot(x, y3, label=r'$4y\\geq 2x - 8$')\n",
    "plt.plot(x, y4, label=r'$y\\leq 2x-5$')\n",
    "plt.xlim(0,20)\n",
    "plt.ylim(0,20)\n",
    "plt.legend(bbox_to_anchor=(1.05, 1), loc=2, borderaxespad=0.)\n",
    "plt.xlabel(r'$x$')\n",
    "plt.ylabel(r'$y$')"
   ]
  }
 ],
 "metadata": {
  "kernelspec": {
   "display_name": "Python 3",
   "language": "python",
   "name": "python3"
  },
  "language_info": {
   "codemirror_mode": {
    "name": "ipython",
    "version": 3
   },
   "file_extension": ".py",
   "mimetype": "text/x-python",
   "name": "python",
   "nbconvert_exporter": "python",
   "pygments_lexer": "ipython3",
   "version": "3.9.5"
  },
  "toc": {
   "base_numbering": 1,
   "nav_menu": {},
   "number_sections": true,
   "sideBar": true,
   "skip_h1_title": false,
   "title_cell": "Table of Contents",
   "title_sidebar": "Contents",
   "toc_cell": false,
   "toc_position": {},
   "toc_section_display": true,
   "toc_window_display": false
  },
  "varInspector": {
   "cols": {
    "lenName": 16,
    "lenType": 16,
    "lenVar": 40
   },
   "kernels_config": {
    "python": {
     "delete_cmd_postfix": "",
     "delete_cmd_prefix": "del ",
     "library": "var_list.py",
     "varRefreshCmd": "print(var_dic_list())"
    },
    "r": {
     "delete_cmd_postfix": ") ",
     "delete_cmd_prefix": "rm(",
     "library": "var_list.r",
     "varRefreshCmd": "cat(var_dic_list()) "
    }
   },
   "types_to_exclude": [
    "module",
    "function",
    "builtin_function_or_method",
    "instance",
    "_Feature"
   ],
   "window_display": false
  }
 },
 "nbformat": 4,
 "nbformat_minor": 5
}
