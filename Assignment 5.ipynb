{
 "cells": [
  {
   "cell_type": "markdown",
   "metadata": {},
   "source": [
    "# Airline plannning problem\n",
    "\n",
    "## Variable\n",
    "\n",
    "$C$ = Set of cities in this example it is A,B,C,D\n",
    "\n",
    "$P$ = Set of plate type B707, (Electra's) & (DC9's).\n",
    "\n",
    "$s_c$ = no of times need to serve city c\n",
    "\n",
    "$a_{p}$ = avg time flight time limit for each plane i.e 18 hrs a day\n",
    "\n",
    "$n_p$ = no of flights available \n",
    "\n",
    "$time_{c,p}$ = avg flight travel time between hub to city \n",
    "\n",
    "$revenue_{c,p}$ = revenue from each trip\n",
    "\n",
    "$cost_{c,p}$ = trip cost for each trip \n",
    "\n",
    "\n",
    "$x_{c,p}$ = No of fligt type (p) trip from hub to location (c) \n",
    "\n",
    "\n",
    "## Constraints\n",
    "\\begin{equation}\n",
    "\\sum_{p \\in P} x_{c,p} = s_{c} \\hspace{2cm} \\forall c \\in C \\tag{serve constraints}\n",
    "\\end{equation}  \n",
    "\n",
    "\n",
    "\\begin{equation}\n",
    "\\sum_{p \\in P} x_{c,p} * time_{c,p} \\leq a_{p} * n_{p} \\hspace{2cm} \\forall c \\in C \\tag{time constraints}\n",
    "\\end{equation}\n",
    "\n",
    "\n",
    "## Objective Function\n",
    "### Cost Minimization \n",
    "\n",
    "\\begin{equation}\n",
    "\\sum_{c \\in C} \\sum_{p \\in P} x_{c,p}* cost_{c,p} \n",
    "\\end{equation}\n",
    "\n",
    "### profit maximization \n",
    "\\begin{equation}\n",
    "\\sum_{c \\in C} \\sum_{p \\in P} x_{c,p}* (revenue_{c,p}-cost_{c,p}) \n",
    "\\end{equation}\n",
    "\n",
    "### time minimization \n",
    "\\begin{equation}\n",
    "\\sum_{c \\in C} \\sum_{p \\in P} x_{c,p}* (time_{c,p}) \n",
    "\\end{equation}"
   ]
  },
  {
   "cell_type": "code",
   "execution_count": 62,
   "metadata": {
    "ExecuteTime": {
     "end_time": "2021-06-29T10:56:06.945672Z",
     "start_time": "2021-06-29T10:56:06.932675Z"
    }
   },
   "outputs": [],
   "source": [
    "import pandas as pd\n",
    "data = pd.read_csv('data5.csv')"
   ]
  },
  {
   "cell_type": "code",
   "execution_count": 91,
   "metadata": {
    "ExecuteTime": {
     "end_time": "2021-06-29T11:06:56.234758Z",
     "start_time": "2021-06-29T11:06:56.219763Z"
    }
   },
   "outputs": [],
   "source": [
    "from pulp import LpMinimize, LpProblem, LpStatus, lpSum, LpVariable, LpMaximize"
   ]
  },
  {
   "cell_type": "code",
   "execution_count": 98,
   "metadata": {
    "ExecuteTime": {
     "end_time": "2021-06-29T11:10:27.000789Z",
     "start_time": "2021-06-29T11:10:26.917818Z"
    }
   },
   "outputs": [],
   "source": [
    "# Define the set index\n",
    "city  = ['A', 'B', 'C', 'D']\n",
    "plane = ['B707', 'DC', 'Electra']\n",
    "\n",
    "\n",
    "n = {'B707':10, 'DC':2, 'Electra':15}\n",
    "\n",
    "cp_index = []\n",
    "for c in city:\n",
    "    for p in plane:\n",
    "        cp_index.append((c,p))\n",
    "\n",
    "cost, revenue, time = {} , {}, {}       \n",
    "for i,j in zip(data['Plane'],data['City']):\n",
    "    cost[(j,i)] = data[(data['City']==j)&(data['Plane']==i)]['Cost'].iloc[0]\n",
    "    revenue[(j,i)] = data[(data['City']==j)&(data['Plane']==i)]['Revenue'].iloc[0]\n",
    "    time[(j,i)] = data[(data['City']==j)&(data['Plane']==i)]['Avg time'].iloc[0]\n",
    "\n",
    "# serve \n",
    "s = {'A':4, 'B':4, 'C':4, 'D':2}\n",
    "\n"
   ]
  },
  {
   "cell_type": "code",
   "execution_count": 99,
   "metadata": {
    "ExecuteTime": {
     "end_time": "2021-06-29T11:10:27.096754Z",
     "start_time": "2021-06-29T11:10:27.090752Z"
    }
   },
   "outputs": [
    {
     "data": {
      "text/plain": [
       "x_A_B707"
      ]
     },
     "execution_count": 99,
     "metadata": {},
     "output_type": "execute_result"
    }
   ],
   "source": [
    "x_var['A']['B707']"
   ]
  },
  {
   "cell_type": "code",
   "execution_count": 100,
   "metadata": {
    "ExecuteTime": {
     "end_time": "2021-06-29T11:10:27.302754Z",
     "start_time": "2021-06-29T11:10:27.296754Z"
    }
   },
   "outputs": [
    {
     "data": {
      "text/plain": [
       "{('A', 'B707'): 6000,\n",
       " ('B', 'B707'): 7000,\n",
       " ('C', 'B707'): 8000,\n",
       " ('D', 'B707'): 10000,\n",
       " ('A', 'Electra'): 1000,\n",
       " ('B', 'Electra'): 2000,\n",
       " ('C', 'Electra'): 4000,\n",
       " ('D', 'Electra'): 0,\n",
       " ('A', 'DC'): 2000,\n",
       " ('B', 'DC'): 3500,\n",
       " ('C', 'DC'): 6000,\n",
       " ('D', 'DC'): 10000}"
      ]
     },
     "execution_count": 100,
     "metadata": {},
     "output_type": "execute_result"
    }
   ],
   "source": [
    "cost"
   ]
  },
  {
   "cell_type": "markdown",
   "metadata": {},
   "source": [
    "### Cost Minimization"
   ]
  },
  {
   "cell_type": "code",
   "execution_count": 184,
   "metadata": {
    "ExecuteTime": {
     "end_time": "2021-06-29T11:28:44.178959Z",
     "start_time": "2021-06-29T11:28:44.163904Z"
    }
   },
   "outputs": [],
   "source": [
    "# Define model variable\n",
    "x_var = LpVariable.dicts(\"x\", (city, plane), lowBound=0, cat=\"Continuous\")\n",
    "\n",
    "# Define objective function\n",
    "model = LpProblem(name=\"Airline-Planning\", sense=LpMinimize)\n",
    "obj_func = lpSum([x_var[c][p]*cost[(c,p)] for c in city for p in plane])\n",
    "model += obj_func\n",
    "\n",
    "# Define constraint\n",
    "for c in city:\n",
    "    model += lpSum([x_var[c][p] for p in plane]) == s[c]\n",
    "    \n",
    "for p in plane:\n",
    "    model += lpSum([x_var[c][p]*time[(c,p)] for c in city]) <= 18*n[p]\n",
    "\n",
    "model += x_var['D']['Electra'] ==0\n"
   ]
  },
  {
   "cell_type": "code",
   "execution_count": 185,
   "metadata": {
    "ExecuteTime": {
     "end_time": "2021-06-29T11:28:49.583185Z",
     "start_time": "2021-06-29T11:28:49.575181Z"
    }
   },
   "outputs": [
    {
     "data": {
      "text/plain": [
       "Airline-Planning:\n",
       "MINIMIZE\n",
       "6000*x_A_B707 + 2000*x_A_DC + 1000*x_A_Electra + 7000*x_B_B707 + 3500*x_B_DC + 2000*x_B_Electra + 8000*x_C_B707 + 6000*x_C_DC + 4000*x_C_Electra + 10000*x_D_B707 + 10000*x_D_DC + 0\n",
       "SUBJECT TO\n",
       "_C1: x_A_B707 + x_A_DC + x_A_Electra = 4\n",
       "\n",
       "_C2: x_B_B707 + x_B_DC + x_B_Electra = 4\n",
       "\n",
       "_C3: x_C_B707 + x_C_DC + x_C_Electra = 4\n",
       "\n",
       "_C4: x_D_B707 + x_D_DC + x_D_Electra = 2\n",
       "\n",
       "_C5: x_A_B707 + 2 x_B_B707 + 5 x_C_B707 + 10 x_D_B707 <= 180\n",
       "\n",
       "_C6: x_A_DC + 2 x_B_DC + 6 x_C_DC + 12 x_D_DC <= 36\n",
       "\n",
       "_C7: 2 x_A_Electra + 4 x_B_Electra + 8 x_C_Electra + 20 x_D_Electra <= 270\n",
       "\n",
       "_C8: x_D_Electra = 0\n",
       "\n",
       "VARIABLES\n",
       "x_A_B707 Continuous\n",
       "x_A_DC Continuous\n",
       "x_A_Electra Continuous\n",
       "x_B_B707 Continuous\n",
       "x_B_DC Continuous\n",
       "x_B_Electra Continuous\n",
       "x_C_B707 Continuous\n",
       "x_C_DC Continuous\n",
       "x_C_Electra Continuous\n",
       "x_D_B707 Continuous\n",
       "x_D_DC Continuous\n",
       "x_D_Electra Continuous"
      ]
     },
     "execution_count": 185,
     "metadata": {},
     "output_type": "execute_result"
    }
   ],
   "source": [
    "model"
   ]
  },
  {
   "cell_type": "code",
   "execution_count": 186,
   "metadata": {
    "ExecuteTime": {
     "end_time": "2021-06-29T11:28:56.312913Z",
     "start_time": "2021-06-29T11:28:56.217612Z"
    }
   },
   "outputs": [
    {
     "data": {
      "text/plain": [
       "1"
      ]
     },
     "execution_count": 186,
     "metadata": {},
     "output_type": "execute_result"
    }
   ],
   "source": [
    "status = model.solve()\n",
    "status"
   ]
  },
  {
   "cell_type": "code",
   "execution_count": 187,
   "metadata": {
    "ExecuteTime": {
     "end_time": "2021-06-29T11:28:56.529791Z",
     "start_time": "2021-06-29T11:28:56.512844Z"
    }
   },
   "outputs": [
    {
     "name": "stdout",
     "output_type": "stream",
     "text": [
      "status: 1, Optimal\n"
     ]
    }
   ],
   "source": [
    "print(f\"status: {model.status}, {LpStatus[model.status]}\")"
   ]
  },
  {
   "cell_type": "code",
   "execution_count": 188,
   "metadata": {
    "ExecuteTime": {
     "end_time": "2021-06-29T11:28:56.893038Z",
     "start_time": "2021-06-29T11:28:56.869039Z"
    }
   },
   "outputs": [
    {
     "name": "stdout",
     "output_type": "stream",
     "text": [
      "x_A_B707: 0.0\n",
      "x_A_DC: 0.0\n",
      "x_A_Electra: 4.0\n",
      "x_B_B707: 0.0\n",
      "x_B_DC: 0.0\n",
      "x_B_Electra: 4.0\n",
      "x_C_B707: 0.0\n",
      "x_C_DC: 0.0\n",
      "x_C_Electra: 4.0\n",
      "x_D_B707: 0.0\n",
      "x_D_DC: 2.0\n",
      "x_D_Electra: 0.0\n"
     ]
    }
   ],
   "source": [
    "for var in model.variables():\n",
    "    print(f\"{var.name}: {var.value()}\")"
   ]
  },
  {
   "cell_type": "code",
   "execution_count": 189,
   "metadata": {
    "ExecuteTime": {
     "end_time": "2021-06-29T11:28:57.563500Z",
     "start_time": "2021-06-29T11:28:57.548554Z"
    }
   },
   "outputs": [
    {
     "data": {
      "text/plain": [
       "48000.0"
      ]
     },
     "execution_count": 189,
     "metadata": {},
     "output_type": "execute_result"
    }
   ],
   "source": [
    "obj_func.value()"
   ]
  },
  {
   "cell_type": "code",
   "execution_count": 190,
   "metadata": {
    "ExecuteTime": {
     "end_time": "2021-06-29T11:28:59.044981Z",
     "start_time": "2021-06-29T11:28:58.958965Z"
    }
   },
   "outputs": [
    {
     "data": {
      "text/plain": [
       "1"
      ]
     },
     "execution_count": 190,
     "metadata": {},
     "output_type": "execute_result"
    }
   ],
   "source": [
    "model.solve()"
   ]
  },
  {
   "cell_type": "code",
   "execution_count": 191,
   "metadata": {
    "ExecuteTime": {
     "end_time": "2021-06-29T11:28:59.549595Z",
     "start_time": "2021-06-29T11:28:59.529590Z"
    }
   },
   "outputs": [
    {
     "name": "stdout",
     "output_type": "stream",
     "text": [
      "x_A_B707: 0.0\n",
      "x_A_DC: 0.0\n",
      "x_A_Electra: 4.0\n",
      "x_B_B707: 0.0\n",
      "x_B_DC: 0.0\n",
      "x_B_Electra: 4.0\n",
      "x_C_B707: 0.0\n",
      "x_C_DC: 0.0\n",
      "x_C_Electra: 4.0\n",
      "x_D_B707: 0.0\n",
      "x_D_DC: 2.0\n",
      "x_D_Electra: 0.0\n"
     ]
    }
   ],
   "source": [
    "for var in model.variables():\n",
    "    print(f\"{var.name}: {var.value()}\")"
   ]
  },
  {
   "cell_type": "code",
   "execution_count": 192,
   "metadata": {
    "ExecuteTime": {
     "end_time": "2021-06-29T11:29:00.284166Z",
     "start_time": "2021-06-29T11:29:00.275209Z"
    }
   },
   "outputs": [
    {
     "data": {
      "text/plain": [
       "48000.0"
      ]
     },
     "execution_count": 192,
     "metadata": {},
     "output_type": "execute_result"
    }
   ],
   "source": [
    "obj_func.value()"
   ]
  },
  {
   "cell_type": "markdown",
   "metadata": {},
   "source": [
    "### Profit Maximization"
   ]
  },
  {
   "cell_type": "code",
   "execution_count": 193,
   "metadata": {
    "ExecuteTime": {
     "end_time": "2021-06-29T11:29:16.714091Z",
     "start_time": "2021-06-29T11:29:16.707088Z"
    }
   },
   "outputs": [],
   "source": [
    "x_var = LpVariable.dicts(\"x\", (city, plane), lowBound=0, cat=\"Continuous\")\n",
    "\n",
    "model = LpProblem(name=\"Airline-Planning\", sense=LpMaximize)\n",
    "\n",
    "obj_func2 = lpSum([x_var[c][p]*(revenue[(c,p)]-cost[(c,p)]) for c in city for p in plane])\n",
    "model += obj_func2\n",
    "    \n",
    "# Define constraint\n",
    "for c in city:\n",
    "    model += lpSum([x_var[c][p] for p in plane]) >= s[c]\n",
    "    \n",
    "for p in plane:\n",
    "    model += lpSum([x_var[c][p]*time[(c,p)] for c in city]) <= 18*n[p]\n",
    "\n",
    "model += x_var['D']['Electra'] ==0\n"
   ]
  },
  {
   "cell_type": "code",
   "execution_count": 194,
   "metadata": {
    "ExecuteTime": {
     "end_time": "2021-06-29T11:29:17.896838Z",
     "start_time": "2021-06-29T11:29:17.833720Z"
    }
   },
   "outputs": [
    {
     "data": {
      "text/plain": [
       "1"
      ]
     },
     "execution_count": 194,
     "metadata": {},
     "output_type": "execute_result"
    }
   ],
   "source": [
    "model.solve()"
   ]
  },
  {
   "cell_type": "code",
   "execution_count": 195,
   "metadata": {
    "ExecuteTime": {
     "end_time": "2021-06-29T11:29:18.261842Z",
     "start_time": "2021-06-29T11:29:18.245840Z"
    }
   },
   "outputs": [
    {
     "name": "stdout",
     "output_type": "stream",
     "text": [
      "status: 1, Optimal\n"
     ]
    }
   ],
   "source": [
    "print(f\"status: {model.status}, {LpStatus[model.status]}\")"
   ]
  },
  {
   "cell_type": "code",
   "execution_count": 196,
   "metadata": {
    "ExecuteTime": {
     "end_time": "2021-06-29T11:29:19.286033Z",
     "start_time": "2021-06-29T11:29:19.262991Z"
    }
   },
   "outputs": [
    {
     "name": "stdout",
     "output_type": "stream",
     "text": [
      "x_A_B707: 0.0\n",
      "x_A_DC: 36.0\n",
      "x_A_Electra: 135.0\n",
      "x_B_B707: 4.0\n",
      "x_B_DC: 0.0\n",
      "x_B_Electra: 0.0\n",
      "x_C_B707: 4.0\n",
      "x_C_DC: 0.0\n",
      "x_C_Electra: 0.0\n",
      "x_D_B707: 15.2\n",
      "x_D_DC: 0.0\n",
      "x_D_Electra: 0.0\n"
     ]
    }
   ],
   "source": [
    "for var in model.variables():\n",
    "    print(f\"{var.name}: {var.value()}\")"
   ]
  },
  {
   "cell_type": "code",
   "execution_count": 197,
   "metadata": {
    "ExecuteTime": {
     "end_time": "2021-06-29T11:29:20.213148Z",
     "start_time": "2021-06-29T11:29:20.210149Z"
    }
   },
   "outputs": [
    {
     "data": {
      "text/plain": [
       "471600.0"
      ]
     },
     "execution_count": 197,
     "metadata": {},
     "output_type": "execute_result"
    }
   ],
   "source": [
    "obj_func2.value()"
   ]
  },
  {
   "cell_type": "markdown",
   "metadata": {},
   "source": [
    "as you can see x_D_B707: 15.2 which can't be possible so we need to solve Integer Programming for this by restricting x_var to integer"
   ]
  },
  {
   "cell_type": "code",
   "execution_count": 198,
   "metadata": {
    "ExecuteTime": {
     "end_time": "2021-06-29T11:29:34.512162Z",
     "start_time": "2021-06-29T11:29:34.499127Z"
    }
   },
   "outputs": [],
   "source": [
    "x_var = LpVariable.dicts(\"x\", (city, plane), lowBound=0, cat=\"Integer\")\n",
    "model = LpProblem(name=\"Airline-Planning\", sense=LpMaximize)\n",
    "\n",
    "obj_func2 = lpSum([x_var[c][p]*(revenue[(c,p)]-cost[(c,p)]) for c in city for p in plane])\n",
    "model += obj_func2\n",
    "    \n",
    "# Define constraint\n",
    "for c in city:\n",
    "    model += lpSum([x_var[c][p] for p in plane]) >= s[c]\n",
    "    \n",
    "for p in plane:\n",
    "    model += lpSum([x_var[c][p]*time[(c,p)] for c in city]) <= 18*n[p]\n",
    "\n",
    "model += x_var['D']['Electra'] ==0\n"
   ]
  },
  {
   "cell_type": "code",
   "execution_count": 199,
   "metadata": {
    "ExecuteTime": {
     "end_time": "2021-06-29T11:29:36.157904Z",
     "start_time": "2021-06-29T11:29:36.096905Z"
    }
   },
   "outputs": [
    {
     "data": {
      "text/plain": [
       "1"
      ]
     },
     "execution_count": 199,
     "metadata": {},
     "output_type": "execute_result"
    }
   ],
   "source": [
    "model.solve()"
   ]
  },
  {
   "cell_type": "code",
   "execution_count": 200,
   "metadata": {
    "ExecuteTime": {
     "end_time": "2021-06-29T11:29:36.762417Z",
     "start_time": "2021-06-29T11:29:36.756379Z"
    }
   },
   "outputs": [
    {
     "data": {
      "text/plain": [
       "470000.0"
      ]
     },
     "execution_count": 200,
     "metadata": {},
     "output_type": "execute_result"
    }
   ],
   "source": [
    "obj_func2.value()"
   ]
  },
  {
   "cell_type": "code",
   "execution_count": 201,
   "metadata": {
    "ExecuteTime": {
     "end_time": "2021-06-29T11:29:45.629048Z",
     "start_time": "2021-06-29T11:29:45.616048Z"
    }
   },
   "outputs": [
    {
     "name": "stdout",
     "output_type": "stream",
     "text": [
      "x_A_B707: 0.0\n",
      "x_A_DC: 36.0\n",
      "x_A_Electra: 135.0\n",
      "x_B_B707: 5.0\n",
      "x_B_DC: 0.0\n",
      "x_B_Electra: 0.0\n",
      "x_C_B707: 4.0\n",
      "x_C_DC: 0.0\n",
      "x_C_Electra: 0.0\n",
      "x_D_B707: 15.0\n",
      "x_D_DC: 0.0\n",
      "x_D_Electra: 0.0\n"
     ]
    }
   ],
   "source": [
    "for var in model.variables():\n",
    "    print(f\"{var.name}: {var.value()}\")"
   ]
  },
  {
   "cell_type": "code",
   "execution_count": null,
   "metadata": {},
   "outputs": [],
   "source": []
  },
  {
   "cell_type": "markdown",
   "metadata": {},
   "source": [
    "### Time Minimization"
   ]
  },
  {
   "cell_type": "code",
   "execution_count": 205,
   "metadata": {
    "ExecuteTime": {
     "end_time": "2021-06-29T11:30:06.674463Z",
     "start_time": "2021-06-29T11:30:06.657465Z"
    }
   },
   "outputs": [],
   "source": [
    "x_var = LpVariable.dicts(\"x\", (city, plane), lowBound=0, cat=\"Integer\")\n",
    "\n",
    "\n",
    "model = LpProblem(name=\"Airline-Planning-3\", sense=LpMaximize)\n",
    "\n",
    "\n",
    "obj_func3 = lpSum([x_var[c][p]*(time[(c,p)]) for c in city for p in plane])\n",
    "model += obj_func3\n",
    "\n",
    "# Define constraint\n",
    "for c in city:\n",
    "    model += lpSum([x_var[c][p] for p in plane]) == s[c]\n",
    "    \n",
    "for p in plane:\n",
    "    model += lpSum([x_var[c][p]*time[(c,p)] for c in city]) <= 18*n[p]\n",
    "\n",
    "model += x_var['D']['Electra'] ==0"
   ]
  },
  {
   "cell_type": "code",
   "execution_count": 206,
   "metadata": {
    "ExecuteTime": {
     "end_time": "2021-06-29T11:30:07.806791Z",
     "start_time": "2021-06-29T11:30:07.750754Z"
    }
   },
   "outputs": [
    {
     "name": "stdout",
     "output_type": "stream",
     "text": [
      "status: 1, Optimal\n",
      "x_A_B707: 0.0\n",
      "x_A_DC: 0.0\n",
      "x_A_Electra: 4.0\n",
      "x_B_B707: 0.0\n",
      "x_B_DC: 0.0\n",
      "x_B_Electra: 4.0\n",
      "x_C_B707: 0.0\n",
      "x_C_DC: 0.0\n",
      "x_C_Electra: 4.0\n",
      "x_D_B707: 0.0\n",
      "x_D_DC: 2.0\n",
      "x_D_Electra: 0.0\n"
     ]
    }
   ],
   "source": [
    "model.solve()\n",
    "print(f\"status: {model.status}, {LpStatus[model.status]}\")\n",
    "for var in model.variables():\n",
    "    print(f\"{var.name}: {var.value()}\")"
   ]
  },
  {
   "cell_type": "code",
   "execution_count": 207,
   "metadata": {
    "ExecuteTime": {
     "end_time": "2021-06-29T11:30:08.731123Z",
     "start_time": "2021-06-29T11:30:08.717124Z"
    }
   },
   "outputs": [
    {
     "data": {
      "text/plain": [
       "48000.0"
      ]
     },
     "execution_count": 207,
     "metadata": {},
     "output_type": "execute_result"
    }
   ],
   "source": [
    "obj_func.value()"
   ]
  },
  {
   "cell_type": "code",
   "execution_count": null,
   "metadata": {},
   "outputs": [],
   "source": []
  },
  {
   "cell_type": "code",
   "execution_count": null,
   "metadata": {},
   "outputs": [],
   "source": []
  }
 ],
 "metadata": {
  "kernelspec": {
   "display_name": "Python 3",
   "language": "python",
   "name": "python3"
  },
  "language_info": {
   "codemirror_mode": {
    "name": "ipython",
    "version": 3
   },
   "file_extension": ".py",
   "mimetype": "text/x-python",
   "name": "python",
   "nbconvert_exporter": "python",
   "pygments_lexer": "ipython3",
   "version": "3.8.10"
  },
  "toc": {
   "base_numbering": 1,
   "nav_menu": {},
   "number_sections": true,
   "sideBar": true,
   "skip_h1_title": false,
   "title_cell": "Table of Contents",
   "title_sidebar": "Contents",
   "toc_cell": false,
   "toc_position": {},
   "toc_section_display": true,
   "toc_window_display": false
  },
  "varInspector": {
   "cols": {
    "lenName": 16,
    "lenType": 16,
    "lenVar": 40
   },
   "kernels_config": {
    "python": {
     "delete_cmd_postfix": "",
     "delete_cmd_prefix": "del ",
     "library": "var_list.py",
     "varRefreshCmd": "print(var_dic_list())"
    },
    "r": {
     "delete_cmd_postfix": ") ",
     "delete_cmd_prefix": "rm(",
     "library": "var_list.r",
     "varRefreshCmd": "cat(var_dic_list()) "
    }
   },
   "types_to_exclude": [
    "module",
    "function",
    "builtin_function_or_method",
    "instance",
    "_Feature"
   ],
   "window_display": false
  }
 },
 "nbformat": 4,
 "nbformat_minor": 4
}
